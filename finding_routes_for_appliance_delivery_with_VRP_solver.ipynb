{
 "cells": [
  {
   "cell_type": "markdown",
   "metadata": {},
   "source": [
    "# Finding routes for appliance delivery with Vehicle Routing Problem Solver\n"
   ]
  },
  {
   "cell_type": "markdown",
   "metadata": {
    "toc": true
   },
   "source": [
    "<h2>Table of Contents<span class=\"tocSkip\"></span></h2>\n",
    "<div class=\"toc\"><ul class=\"toc-item\"><li><span><a href=\"#Finding-routes-for-appliance-delivery-with-Vehicle-Routing-Problem-Solver\" data-toc-modified-id=\"Finding-routes-for-appliance-delivery-with-Vehicle-Routing-Problem-Solver-1\">Finding routes for appliance delivery with Vehicle Routing Problem Solver</a></span><ul class=\"toc-item\"><li><ul class=\"toc-item\"><li><span><a href=\"#Create-orders-layer-with-csv-file:\" data-toc-modified-id=\"Create-orders-layer-with-csv-file:-1.0.1\">Orders layer with csv file:</a></span></li><li><span><a href=\"#Create-routes-layer-with-csv-file:\" data-toc-modified-id=\"Create-routes-layer-with-csv-file:-1.0.2\">Routes layer with csv file:</a></span></li><li><span><a href=\"#Create-depots-layer-with-csv-file:\" data-toc-modified-id=\"Create-depots-layer-with-csv-file:-1.0.3\">Depots layer with csv file:</a></span></li><li><span><a href=\"#Draw-the-depots-and-orders-in-map.\" data-toc-modified-id=\"Draw-the-depots-and-orders-in-map.-1.0.4\">Draw the <code>depots</code> and <code>orders</code> in map.</a></span></li><li><span><a href=\"#Create-depots-layer-by-geocoding-the-location\" data-toc-modified-id=\"Create-depots-layer-by-geocoding-the-location-1.0.5\">Create depots layer by geocoding the location</a></span></li><li><span><a href=\"#Create-routes-layer-with-JSON-file\" data-toc-modified-id=\"Create-routes-layer-with-JSON-file-1.0.6\">Routes layer with JSON file</a></span></li></ul></li><li><span><a href=\"#Solve-VRP\" data-toc-modified-id=\"Solve-VRP-1.1\">Solve VRP</a></span></li><li><span><a href=\"#Result\" data-toc-modified-id=\"Result-1.2\">Result</a></span></li></ul></li></ul></div>"
   ]
  },
  {
   "cell_type": "code",
   "execution_count": 1,
   "metadata": {},
   "outputs": [],
   "source": [
    "import arcgis\n",
    "from arcgis.gis import GIS\n",
    "import pandas as pd\n",
    "import datetime\n",
    "import getpass\n",
    "from IPython.display import HTML\n",
    "\n",
    "from arcgis import geocoding\n",
    "from arcgis.features import Feature, FeatureSet\n",
    "from arcgis.features import GeoAccessor, GeoSeriesAccessor"
   ]
  },
  {
   "cell_type": "code",
   "execution_count": 2,
   "metadata": {},
   "outputs": [],
   "source": [
    "portal_url = 'https://www.arcgis.com'\n",
    "#connect to your GIS\n",
    "user_name = 'Vishalbhat10' # '<user_name>'\n",
    "password = 'ViSh8123' #'<password>'\n",
    "my_gis = GIS(portal_url, user_name, password)"
   ]
  },
  {
   "cell_type": "markdown",
   "metadata": {},
   "source": [
    "To solve the Vehicle Routing Problem, we need `orders` layer with stop information, `depots` layer with the warehouse location information from where the routes start and `routes` table with constraints on routes like maximum total time the driver can work etc.\n",
    "To provide this information to the service, different types of inputs are supported as listed below:\n",
    "\n",
    "- Csv file\n",
    "- Address information to geocode or reverse geocode\n",
    "- Json file with attribute names and values\n",
    "\n",
    "Let us see how to get the layer from each of these input types."
   ]
  },
  {
   "cell_type": "code",
   "execution_count": 3,
   "metadata": {},
   "outputs": [],
   "source": [
    "orders_csv = \"data/orders.csv\"\n",
    "\n",
    "# Read the csv file and convert the data to feature set\n",
    "orders_df = pd.read_csv(orders_csv)\n",
    "orders_sdf = pd.DataFrame.spatial.from_df(orders_df, \"Address\")\n",
    "orders_fset = orders_sdf.spatial.to_featureset()"
   ]
  },
  {
   "cell_type": "code",
   "execution_count": 4,
   "metadata": {},
   "outputs": [
    {
     "data": {
      "text/html": [
       "<div>\n",
       "<style scoped>\n",
       "    .dataframe tbody tr th:only-of-type {\n",
       "        vertical-align: middle;\n",
       "    }\n",
       "\n",
       "    .dataframe tbody tr th {\n",
       "        vertical-align: top;\n",
       "    }\n",
       "\n",
       "    .dataframe thead th {\n",
       "        text-align: right;\n",
       "    }\n",
       "</style>\n",
       "<table border=\"1\" class=\"dataframe\">\n",
       "  <thead>\n",
       "    <tr style=\"text-align: right;\">\n",
       "      <th></th>\n",
       "      <th>Address</th>\n",
       "      <th>SHAPE</th>\n",
       "    </tr>\n",
       "  </thead>\n",
       "  <tbody>\n",
       "    <tr>\n",
       "      <th>0</th>\n",
       "      <td>602 Murray Cir, Sausalito, CA 94965</td>\n",
       "      <td>{\"x\": -122.47887446699997, \"y\": 37.83736624200...</td>\n",
       "    </tr>\n",
       "    <tr>\n",
       "      <th>1</th>\n",
       "      <td>340 Stockton St, San Francisco, CA 94108</td>\n",
       "      <td>{\"x\": -122.40685137099996, \"y\": 37.78910353700...</td>\n",
       "    </tr>\n",
       "    <tr>\n",
       "      <th>2</th>\n",
       "      <td>3619 Balboa St, San Francisco, CA 94121</td>\n",
       "      <td>{\"x\": -122.49773567699998, \"y\": 37.77567367400...</td>\n",
       "    </tr>\n",
       "  </tbody>\n",
       "</table>\n",
       "</div>"
      ],
      "text/plain": [
       "                                    Address  \\\n",
       "0       602 Murray Cir, Sausalito, CA 94965   \n",
       "1  340 Stockton St, San Francisco, CA 94108   \n",
       "2   3619 Balboa St, San Francisco, CA 94121   \n",
       "\n",
       "                                               SHAPE  \n",
       "0  {\"x\": -122.47887446699997, \"y\": 37.83736624200...  \n",
       "1  {\"x\": -122.40685137099996, \"y\": 37.78910353700...  \n",
       "2  {\"x\": -122.49773567699998, \"y\": 37.77567367400...  "
      ]
     },
     "execution_count": 4,
     "metadata": {},
     "output_type": "execute_result"
    }
   ],
   "source": [
    "orders_sdf.head(3)"
   ]
  },
  {
   "cell_type": "markdown",
   "metadata": {},
   "source": [
    "### Create routes layer with csv file:"
   ]
  },
  {
   "cell_type": "markdown",
   "metadata": {},
   "source": [
    "A route specifies vehicle and driver characteristics. A route can have start and end depot service times, a fixed or flexible starting time, time-based operating costs, distance-based operating costs, multiple capacities, various constraints on a driver’s workday, and so on. When specifying the routes, you can set properties for each one by using attributes. Attributes in the csv are explained below.\n",
    "\n",
    "`Name`- The name of the route\n",
    "\n",
    "`StartDepotName`- The name of the starting depot for the route. This field is a foreign key to the Name field in Depots.\n",
    "\n",
    "`EndDepotName`-  The name of the ending depot for the route. This field is a foreign key to the Name field in the Depots class.\n",
    "\n",
    "`EarliestStartTime`- The earliest allowable starting time for the route. \n",
    "\n",
    "`LatestStartTime`- The latest allowable starting time for the route.\n",
    "\n",
    "`Capacities`- The maximum capacity of the vehicle.\n",
    "\n",
    "`CostPerUnitTime`- The monetary cost incurred per unit of work time, for the total route duration, including travel times as well as service times and wait times at orders, depots, and breaks.\n",
    "\n",
    "`MaxOrderCount`- The maximum allowable number of orders on the route.\n",
    "\n",
    "`MaxTotalTime`- The maximum allowable route duration.\n",
    "\n",
    "`AssignmentRule`- This field specifies the rule for assigning the order to a route for example, Exclude, Preserve route, Preserve rooute with relative sequence, override etc, please read [documentation](https://esri.github.io/arcgis-python-api/apidoc/html/arcgis.network.analysis.html#solve-vehicle-routing-problem) for more details. \n",
    "\n",
    "To get a featureset from dataframe, we convert the CSV to a pandas data frame using read_csv function. Note that in our CSV, `EarliestStartTime` and `LatestStartTime` values are represented as strings denoting time in the local time zone of the computer. So we need to parse these values as date-time values which we accomplish by specifying to_datetime function as the datetime parser.\n",
    "\n",
    "When calling `arcgis.network.analysis.solve_vehicle_routing_problem` function we need to pass the datetime values in milliseconds since epoch. The `routes_df` dataframe stores these values as datetime type. We convert from datetime to int64 datatype which stores the values in nano seconds. We then convert those to milliseconds.\n"
   ]
  },
  {
   "cell_type": "code",
   "execution_count": 5,
   "metadata": {
    "scrolled": false
   },
   "outputs": [],
   "source": [
    "routes_csv = \"data/routes.csv\"\n",
    "\n",
    "# Read the csv file\n",
    "routes_df = pd.read_csv(routes_csv, parse_dates=[\"EarliestStartTime\", \"LatestStartTime\"], date_parser=pd.to_datetime)\n",
    "routes_df[\"EarliestStartTime\"] = routes_df[\"EarliestStartTime\"].astype(\"int64\") / 10 ** 6\n",
    "routes_df[\"LatestStartTime\"] = routes_df[\"LatestStartTime\"].astype(\"int64\") / 10 ** 6\n",
    "routes_fset = arcgis.features.FeatureSet.from_dataframe(routes_df)"
   ]
  },
  {
   "cell_type": "code",
   "execution_count": 6,
   "metadata": {},
   "outputs": [
    {
     "data": {
      "text/html": [
       "<div>\n",
       "<style scoped>\n",
       "    .dataframe tbody tr th:only-of-type {\n",
       "        vertical-align: middle;\n",
       "    }\n",
       "\n",
       "    .dataframe tbody tr th {\n",
       "        vertical-align: top;\n",
       "    }\n",
       "\n",
       "    .dataframe thead th {\n",
       "        text-align: right;\n",
       "    }\n",
       "</style>\n",
       "<table border=\"1\" class=\"dataframe\">\n",
       "  <thead>\n",
       "    <tr style=\"text-align: right;\">\n",
       "      <th></th>\n",
       "      <th>ObjectID</th>\n",
       "      <th>Name</th>\n",
       "      <th>StartDepotName</th>\n",
       "      <th>EndDepotName</th>\n",
       "      <th>EarliestStartTime</th>\n",
       "      <th>LatestStartTime</th>\n",
       "      <th>Capacities</th>\n",
       "      <th>CostPerUnitTime</th>\n",
       "      <th>MaxOrderCount</th>\n",
       "      <th>MaxTotalTime</th>\n",
       "      <th>AssignmentRule</th>\n",
       "    </tr>\n",
       "  </thead>\n",
       "  <tbody>\n",
       "    <tr>\n",
       "      <th>0</th>\n",
       "      <td>1</td>\n",
       "      <td>Route1</td>\n",
       "      <td>Warehouse</td>\n",
       "      <td>Warehouse</td>\n",
       "      <td>-2.209133e+12</td>\n",
       "      <td>-2.209126e+12</td>\n",
       "      <td>6</td>\n",
       "      <td>20</td>\n",
       "      <td>6</td>\n",
       "      <td>150</td>\n",
       "      <td>1</td>\n",
       "    </tr>\n",
       "    <tr>\n",
       "      <th>1</th>\n",
       "      <td>2</td>\n",
       "      <td>Route2</td>\n",
       "      <td>Warehouse</td>\n",
       "      <td>Warehouse</td>\n",
       "      <td>-2.209133e+12</td>\n",
       "      <td>-2.209126e+12</td>\n",
       "      <td>6</td>\n",
       "      <td>20</td>\n",
       "      <td>6</td>\n",
       "      <td>150</td>\n",
       "      <td>1</td>\n",
       "    </tr>\n",
       "  </tbody>\n",
       "</table>\n",
       "</div>"
      ],
      "text/plain": [
       "   ObjectID    Name StartDepotName EndDepotName  EarliestStartTime  \\\n",
       "0         1  Route1      Warehouse    Warehouse      -2.209133e+12   \n",
       "1         2  Route2      Warehouse    Warehouse      -2.209133e+12   \n",
       "\n",
       "   LatestStartTime  Capacities  CostPerUnitTime  MaxOrderCount  MaxTotalTime  \\\n",
       "0    -2.209126e+12           6               20              6           150   \n",
       "1    -2.209126e+12           6               20              6           150   \n",
       "\n",
       "   AssignmentRule  \n",
       "0               1  \n",
       "1               1  "
      ]
     },
     "execution_count": 6,
     "metadata": {},
     "output_type": "execute_result"
    }
   ],
   "source": [
    "routes_df"
   ]
  },
  {
   "cell_type": "markdown",
   "metadata": {},
   "source": [
    "### Create depots layer with csv file:\n",
    "Use this parameter to specify a location that a vehicle departs from at the beginning of its workday and returns to, at the end of the workday. Vehicles are loaded (for deliveries) or unloaded (for pickups) at depots at the start of the route.\n",
    "\n",
    "Depots CSV file has depot locations in columns called `Latitude` (representing Y values) and `Longitude` (representing X values). So, we convert depots CSV to a SpatialDataFrame using the X and Y values. We need to reverse geocode these locations as these are provided in latitude/longitude format. Depots must have `Name` values because the `StartDepotName` and `EndDepotName` attributes of the `routes` parameter reference the names you specify here. "
   ]
  },
  {
   "cell_type": "code",
   "execution_count": 7,
   "metadata": {},
   "outputs": [
    {
     "data": {
      "text/html": [
       "<div>\n",
       "<style scoped>\n",
       "    .dataframe tbody tr th:only-of-type {\n",
       "        vertical-align: middle;\n",
       "    }\n",
       "\n",
       "    .dataframe tbody tr th {\n",
       "        vertical-align: top;\n",
       "    }\n",
       "\n",
       "    .dataframe thead th {\n",
       "        text-align: right;\n",
       "    }\n",
       "</style>\n",
       "<table border=\"1\" class=\"dataframe\">\n",
       "  <thead>\n",
       "    <tr style=\"text-align: right;\">\n",
       "      <th></th>\n",
       "      <th>Name</th>\n",
       "      <th>SHAPE</th>\n",
       "    </tr>\n",
       "  </thead>\n",
       "  <tbody>\n",
       "    <tr>\n",
       "      <th>0</th>\n",
       "      <td>Warehouse</td>\n",
       "      <td>{\"spatialReference\": {\"wkid\": 4326}, \"x\": -122...</td>\n",
       "    </tr>\n",
       "  </tbody>\n",
       "</table>\n",
       "</div>"
      ],
      "text/plain": [
       "        Name                                              SHAPE\n",
       "0  Warehouse  {\"spatialReference\": {\"wkid\": 4326}, \"x\": -122..."
      ]
     },
     "execution_count": 7,
     "metadata": {},
     "output_type": "execute_result"
    }
   ],
   "source": [
    "depots_csv = \"data/depots.csv\"\n",
    "\n",
    "# Read the csv file and convert the data to feature set\n",
    "depots_df = pd.read_csv(depots_csv)\n",
    "depots_sdf = pd.DataFrame.spatial.from_xy(depots_df, \"Longitude\", \"Latitude\")\n",
    "depots_sdf = depots_sdf.drop(axis=1, labels=[\"Longitude\", \"Latitude\"])\n",
    "depots_fset = depots_sdf.spatial.to_featureset()\n",
    "depots_sdf"
   ]
  },
  {
   "cell_type": "markdown",
   "metadata": {},
   "source": [
    "\n",
    "### Draw the `depots` and `orders` in map.\n",
    "To visualize the `orders` and `depots` layer in the map, create a map as done below. The layer can also be drawn with suitable symbol, size and color with draw service in map. The green dots represent stops location to service and the orange square represents the depot from where `routes` should start."
   ]
  },
  {
   "cell_type": "code",
   "execution_count": 8,
   "metadata": {},
   "outputs": [
    {
     "data": {
      "application/vnd.jupyter.widget-view+json": {
       "model_id": "2caad147365446ada112f54ae29c8fdb",
       "version_major": 2,
       "version_minor": 0
      },
      "text/plain": [
       "MapView(layout=Layout(height='400px', width='100%'))"
      ]
     },
     "metadata": {},
     "output_type": "display_data"
    },
    {
     "data": {
      "text/html": [
       "<div class=\"map-static-img-preview-b82872dd-bb12-426e-bcd8-979bd3aa8f75\"><img src=\"\"></img></div>"
      ],
      "text/plain": [
       "<IPython.core.display.HTML object>"
      ]
     },
     "metadata": {},
     "output_type": "display_data"
    }
   ],
   "source": [
    "# Create a map instance to visualize inputs in map\n",
    "map_view_inputs = my_gis.map('San Fransisco, United States', zoomlevel=10)\n",
    "map_view_inputs"
   ]
  },
  {
   "cell_type": "code",
   "execution_count": 9,
   "metadata": {},
   "outputs": [],
   "source": [
    "# Visualize order and depot locations with symbology\n",
    "map_view_inputs.draw(orders_fset, symbol={\"type\": \"esriSMS\",\"style\": \"esriSMSCircle\",\"color\": [76,115,0,255],\"size\": 8})\n",
    "map_view_inputs.draw(depots_fset, symbol={\"type\": \"esriSMS\",\"style\": \"esriSMSSquare\",\"color\": [255,115,0,255], \"size\": 10})"
   ]
  },
  {
   "cell_type": "markdown",
   "metadata": {},
   "source": [
    "Alternatively, if the input data is provided in different formats, we could still create layers from those data. In practice, there might not always be csv files for all the inputs. It could be just a list of addresses or the inputs are feed from an automated script or server output in JSON format from REST API.\n",
    "\n",
    "Let's see how to convert each of input type to featureset to provide as input directly to the VRP service.\n",
    "\n",
    "### Create depots layer by geocoding the location\n",
    "\n",
    "If we know address of depot, we would geocode the address to get the feature set to input that to the VRP solver as follows."
   ]
  },
  {
   "cell_type": "code",
   "execution_count": 10,
   "metadata": {
    "scrolled": true
   },
   "outputs": [
    {
     "data": {
      "text/html": [
       "<div>\n",
       "<style scoped>\n",
       "    .dataframe tbody tr th:only-of-type {\n",
       "        vertical-align: middle;\n",
       "    }\n",
       "\n",
       "    .dataframe tbody tr th {\n",
       "        vertical-align: top;\n",
       "    }\n",
       "\n",
       "    .dataframe thead th {\n",
       "        text-align: right;\n",
       "    }\n",
       "</style>\n",
       "<table border=\"1\" class=\"dataframe\">\n",
       "  <thead>\n",
       "    <tr style=\"text-align: right;\">\n",
       "      <th></th>\n",
       "      <th>Loc_name</th>\n",
       "      <th>Status</th>\n",
       "      <th>Score</th>\n",
       "      <th>Match_addr</th>\n",
       "      <th>LongLabel</th>\n",
       "      <th>ShortLabel</th>\n",
       "      <th>Addr_type</th>\n",
       "      <th>Type</th>\n",
       "      <th>PlaceName</th>\n",
       "      <th>Place_addr</th>\n",
       "      <th>...</th>\n",
       "      <th>Y</th>\n",
       "      <th>DisplayX</th>\n",
       "      <th>DisplayY</th>\n",
       "      <th>Xmin</th>\n",
       "      <th>Xmax</th>\n",
       "      <th>Ymin</th>\n",
       "      <th>Ymax</th>\n",
       "      <th>ExInfo</th>\n",
       "      <th>OBJECTID</th>\n",
       "      <th>SHAPE</th>\n",
       "    </tr>\n",
       "  </thead>\n",
       "  <tbody>\n",
       "    <tr>\n",
       "      <th>0</th>\n",
       "      <td>World</td>\n",
       "      <td>M</td>\n",
       "      <td>99.71</td>\n",
       "      <td>98 Pier 1, San Francisco, California, 94111</td>\n",
       "      <td>98 Pier 1, San Francisco, CA, 94111, USA</td>\n",
       "      <td>98 Pier 1</td>\n",
       "      <td>StreetAddress</td>\n",
       "      <td></td>\n",
       "      <td></td>\n",
       "      <td>98 Pier 1, San Francisco, California, 94111</td>\n",
       "      <td>...</td>\n",
       "      <td>37.797508</td>\n",
       "      <td>-122.393827</td>\n",
       "      <td>37.797508</td>\n",
       "      <td>-122.394827</td>\n",
       "      <td>-122.392827</td>\n",
       "      <td>37.796508</td>\n",
       "      <td>37.798508</td>\n",
       "      <td>2</td>\n",
       "      <td>1</td>\n",
       "      <td>{\"x\": -122.39382666385134, \"y\": 37.79750781661...</td>\n",
       "    </tr>\n",
       "  </tbody>\n",
       "</table>\n",
       "<p>1 rows × 59 columns</p>\n",
       "</div>"
      ],
      "text/plain": [
       "  Loc_name Status  Score                                   Match_addr  \\\n",
       "0    World      M  99.71  98 Pier 1, San Francisco, California, 94111   \n",
       "\n",
       "                                  LongLabel ShortLabel      Addr_type Type  \\\n",
       "0  98 Pier 1, San Francisco, CA, 94111, USA  98 Pier 1  StreetAddress        \n",
       "\n",
       "  PlaceName                                   Place_addr  ...          Y  \\\n",
       "0            98 Pier 1, San Francisco, California, 94111  ...  37.797508   \n",
       "\n",
       "     DisplayX   DisplayY        Xmin        Xmax       Ymin       Ymax ExInfo  \\\n",
       "0 -122.393827  37.797508 -122.394827 -122.392827  37.796508  37.798508      2   \n",
       "\n",
       "  OBJECTID                                              SHAPE  \n",
       "0        1  {\"x\": -122.39382666385134, \"y\": 37.79750781661...  \n",
       "\n",
       "[1 rows x 59 columns]"
      ]
     },
     "execution_count": 10,
     "metadata": {},
     "output_type": "execute_result"
    }
   ],
   "source": [
    "depot_geocoded_fs = geocoding.geocode(\"2-98 Pier 1, San Francisco, California, 94111\", \n",
    "                                      as_featureset=True, max_locations=1)\n",
    "depot_geocoded_fs.sdf\n"
   ]
  },
  {
   "cell_type": "markdown",
   "metadata": {},
   "source": [
    "### Create routes layer with JSON file\n",
    "If we have json files for inputs, without needing to parse it, we could feed that to from_json service of FeatureSet and we would get feature set to input to the [VRP service](https://developers.arcgis.com/rest/network/api-reference/vehicle-routing-problem-service.htm#ESRI_SECTION3_E65DBEE0F0BF46EB946A63A2537137C5)."
   ]
  },
  {
   "cell_type": "code",
   "execution_count": 11,
   "metadata": {},
   "outputs": [
    {
     "data": {
      "text/plain": [
       "<FeatureSet> 2 features"
      ]
     },
     "execution_count": 11,
     "metadata": {},
     "output_type": "execute_result"
    }
   ],
   "source": [
    "import json\n",
    "with open(\"data/Routes_fset.json\") as f:\n",
    "    df1 = json.load(f)\n",
    "routes_string = json.dumps(df1)    \n",
    "routes_fset2 = FeatureSet.from_json(routes_string)\n",
    "routes_fset2"
   ]
  },
  {
   "cell_type": "code",
   "execution_count": 12,
   "metadata": {},
   "outputs": [
    {
     "data": {
      "text/plain": [
       "'{\"features\": [{\"attributes\": {\"StartDepotName\": \"Warehouse\", \"EndDepotName\": \"Warehouse\", \"EarliestStartTime\": -2209132800000, \"LatestStartTime\": -2209125600000, \"Capacities\": \"6\", \"CostPerUnitTime\": 20, \"MaxOrderCount\": 6, \"MaxTotalTime\": 150, \"AssignmentRule\": 1, \"Name\": \"Route1\"}}, {\"attributes\": {\"StartDepotName\": \"Warehouse\", \"EndDepotName\": \"Warehouse\", \"EarliestStartTime\": -2209132800000, \"LatestStartTime\": -2209125600000, \"Capacities\": \"6\", \"CostPerUnitTime\": 20, \"MaxOrderCount\": 6, \"MaxTotalTime\": 150, \"AssignmentRule\": 1, \"Name\": \"Route2\"}}]}'"
      ]
     },
     "execution_count": 12,
     "metadata": {},
     "output_type": "execute_result"
    }
   ],
   "source": [
    "routes_string"
   ]
  },
  {
   "cell_type": "markdown",
   "metadata": {},
   "source": [
    "## Solve VRP\n",
    "Once you have all the inputs as featuresets, you can pass inputs converted from different formats. For example, depot could be a featureset geocoded from address, `orders` and `routes` could be read from csv files to convert to featureset. As result to the solve, we get routes with geometry. If we need driving directions for navigation, `populate_directions` must be set to true. "
   ]
  },
  {
   "cell_type": "code",
   "execution_count": 13,
   "metadata": {},
   "outputs": [
    {
     "name": "stderr",
     "output_type": "stream",
     "text": [
      "WARNING 030194: Data values longer than 500 characters for field [Routes:StartDepotName] are truncated.\n",
      "WARNING 030194: Data values longer than 500 characters for field [Routes:EndDepotName] are truncated.\n",
      "Network elements with avoid-restrictions are traversed in the output (restriction attribute names: \"Through Traffic Prohibited\").\n"
     ]
    },
    {
     "name": "stdout",
     "output_type": "stream",
     "text": [
      "Analysis succeeded? True\n",
      "Wall time: 15.6 s\n"
     ]
    }
   ],
   "source": [
    "%%time\n",
    "today = datetime.datetime.now()\n",
    "from arcgis.network.analysis import solve_vehicle_routing_problem\n",
    "results = solve_vehicle_routing_problem(orders= orders_fset,\n",
    "                                        depots = depots_fset,\n",
    "                                        routes = routes_fset, \n",
    "                                        save_route_data='true',\n",
    "                                        populate_directions='true',\n",
    "                                        travel_mode=\"Driving Time\",\n",
    "                                        default_date=today)\n",
    "\n",
    "print('Analysis succeeded? {}'.format(results.solve_succeeded))"
   ]
  },
  {
   "cell_type": "markdown",
   "metadata": {},
   "source": [
    "## Result\n",
    "Let's have a look at the output routes in the dataframe. Description about the fields returned for each route can be read in the [documentation](https://developers.arcgis.com/rest/network/api-reference/vehicle-routing-problem-service.htm#ESRI_SECTION3_E65DBEE0F0BF46EB946A63A2537137C5). Some fields shown in the output are:\n",
    "\n",
    "`Name`- The name of the route.\n",
    "\n",
    "`OrderCount`- The number of orders assigned to the route.\n",
    "\n",
    "`StartTime`- The starting time of the route. \n",
    "\n",
    "`EndTime`- The ending time of the route.\n",
    "\n",
    "`StartTimeUTC`- The start time of the route in UTC time.\n",
    "\n",
    "`EndTimeUTC`- The end time of the route in UTC time.\n",
    "\n",
    "`TotalCost`- The total operating cost of the route, which is the sum of the following attribute values: FixedCost, RegularTimeCost, OvertimeCost, and DistanceCost.\n",
    "\n",
    "`TotalDistance`- The total travel distance for the route. \n",
    "\n",
    "`TotalTime`- The total route duration. \n",
    "\n",
    "`TotalTravelTime`- The total travel time for the route. \n",
    "\n",
    "The time values returned from VRP service are in milliseconds from epoch, we need to convert those to datetime format. From the output table, Route1 starts at 8 am, the total time duration for the route is 126 minutes and the total distance for the route is around 60 miles and Route1 services 4 orders."
   ]
  },
  {
   "cell_type": "code",
   "execution_count": 14,
   "metadata": {
    "scrolled": false
   },
   "outputs": [
    {
     "data": {
      "text/html": [
       "<div>\n",
       "<style scoped>\n",
       "    .dataframe tbody tr th:only-of-type {\n",
       "        vertical-align: middle;\n",
       "    }\n",
       "\n",
       "    .dataframe tbody tr th {\n",
       "        vertical-align: top;\n",
       "    }\n",
       "\n",
       "    .dataframe thead th {\n",
       "        text-align: right;\n",
       "    }\n",
       "</style>\n",
       "<table border=\"1\" class=\"dataframe\">\n",
       "  <thead>\n",
       "    <tr style=\"text-align: right;\">\n",
       "      <th></th>\n",
       "      <th>Name</th>\n",
       "      <th>OrderCount</th>\n",
       "      <th>StartTime</th>\n",
       "      <th>EndTime</th>\n",
       "      <th>TotalCost</th>\n",
       "      <th>TotalDistance</th>\n",
       "      <th>TotalTime</th>\n",
       "      <th>TotalTravelTime</th>\n",
       "      <th>StartTimeUTC</th>\n",
       "      <th>EndTimeUTC</th>\n",
       "    </tr>\n",
       "  </thead>\n",
       "  <tbody>\n",
       "    <tr>\n",
       "      <th>0</th>\n",
       "      <td>Route1</td>\n",
       "      <td>4</td>\n",
       "      <td>2020-11-16 08:00:00</td>\n",
       "      <td>2020-11-16 09:58:14.000999928</td>\n",
       "      <td>2364.667021</td>\n",
       "      <td>60.725862</td>\n",
       "      <td>118.233351</td>\n",
       "      <td>118.233351</td>\n",
       "      <td>2020-11-16 16:00:00</td>\n",
       "      <td>2020-11-16 17:58:14.000999928</td>\n",
       "    </tr>\n",
       "    <tr>\n",
       "      <th>1</th>\n",
       "      <td>Route2</td>\n",
       "      <td>6</td>\n",
       "      <td>2020-11-16 08:00:00</td>\n",
       "      <td>2020-11-16 10:05:20.522000074</td>\n",
       "      <td>2506.840594</td>\n",
       "      <td>63.759824</td>\n",
       "      <td>125.342030</td>\n",
       "      <td>125.342030</td>\n",
       "      <td>2020-11-16 16:00:00</td>\n",
       "      <td>2020-11-16 18:05:20.522000074</td>\n",
       "    </tr>\n",
       "  </tbody>\n",
       "</table>\n",
       "</div>"
      ],
      "text/plain": [
       "     Name  OrderCount           StartTime                       EndTime  \\\n",
       "0  Route1           4 2020-11-16 08:00:00 2020-11-16 09:58:14.000999928   \n",
       "1  Route2           6 2020-11-16 08:00:00 2020-11-16 10:05:20.522000074   \n",
       "\n",
       "     TotalCost  TotalDistance   TotalTime  TotalTravelTime  \\\n",
       "0  2364.667021      60.725862  118.233351       118.233351   \n",
       "1  2506.840594      63.759824  125.342030       125.342030   \n",
       "\n",
       "         StartTimeUTC                    EndTimeUTC  \n",
       "0 2020-11-16 16:00:00 2020-11-16 17:58:14.000999928  \n",
       "1 2020-11-16 16:00:00 2020-11-16 18:05:20.522000074  "
      ]
     },
     "execution_count": 14,
     "metadata": {},
     "output_type": "execute_result"
    }
   ],
   "source": [
    "# Display the output routes in a pandas dataframe.\n",
    "out_routes_df = results.out_routes.sdf\n",
    "out_routes_df[['Name','OrderCount','StartTime','EndTime','TotalCost','TotalDistance','TotalTime','TotalTravelTime','StartTimeUTC','EndTimeUTC']]"
   ]
  },
  {
   "cell_type": "markdown",
   "metadata": {},
   "source": [
    "The information about stops sequence and which routes will service the stops, let's read out_stops output table. Relevant attributes from the table are:\n",
    "\n",
    "`Name`- The name of the stop.\n",
    "\n",
    "`RouteName`- The name of the route that makes the stop.\n",
    "\n",
    "`Sequence`- The relative sequence in which the assigned route visits the stop.\n",
    "\n",
    "`ArriveTime`- The time of day when the route arrives at the stop. The time-of-day value for this attribute is in the time zone in which the stop is located.\n",
    "\n",
    "`DepartTime`- The time of day when the route departs from the stop. The time-of-day value for this attribute is in the time zone in which the stop is located.\n",
    "\n",
    "Similar to routes table, it has time values in milliseconds from epoch, we will convert those values to date time format. \n",
    "\n",
    "In the table, Route1 starts at 2019-01-17 08:00:00.000 from Warehouse, and arrives at the stop 6 located at '10264 San Pablo Ave, El Cerrito, CA 94530', at 2019-02-01 08:28 local time."
   ]
  },
  {
   "cell_type": "code",
   "execution_count": 15,
   "metadata": {},
   "outputs": [
    {
     "data": {
      "text/html": [
       "<div>\n",
       "<style scoped>\n",
       "    .dataframe tbody tr th:only-of-type {\n",
       "        vertical-align: middle;\n",
       "    }\n",
       "\n",
       "    .dataframe tbody tr th {\n",
       "        vertical-align: top;\n",
       "    }\n",
       "\n",
       "    .dataframe thead th {\n",
       "        text-align: right;\n",
       "    }\n",
       "</style>\n",
       "<table border=\"1\" class=\"dataframe\">\n",
       "  <thead>\n",
       "    <tr style=\"text-align: right;\">\n",
       "      <th></th>\n",
       "      <th>Name</th>\n",
       "      <th>RouteName</th>\n",
       "      <th>Sequence</th>\n",
       "      <th>ArriveTime</th>\n",
       "      <th>DepartTime</th>\n",
       "    </tr>\n",
       "  </thead>\n",
       "  <tbody>\n",
       "    <tr>\n",
       "      <th>10</th>\n",
       "      <td>Warehouse</td>\n",
       "      <td>Route1</td>\n",
       "      <td>1</td>\n",
       "      <td>2020-11-16 08:00:00.000000000</td>\n",
       "      <td>2020-11-16 08:00:00.000000000</td>\n",
       "    </tr>\n",
       "    <tr>\n",
       "      <th>5</th>\n",
       "      <td>Location 6</td>\n",
       "      <td>Route1</td>\n",
       "      <td>2</td>\n",
       "      <td>2020-11-16 08:28:41.918999910</td>\n",
       "      <td>2020-11-16 08:28:41.918999910</td>\n",
       "    </tr>\n",
       "    <tr>\n",
       "      <th>6</th>\n",
       "      <td>Location 7</td>\n",
       "      <td>Route1</td>\n",
       "      <td>3</td>\n",
       "      <td>2020-11-16 08:39:56.630000114</td>\n",
       "      <td>2020-11-16 08:39:56.630000114</td>\n",
       "    </tr>\n",
       "    <tr>\n",
       "      <th>9</th>\n",
       "      <td>Location 10</td>\n",
       "      <td>Route1</td>\n",
       "      <td>4</td>\n",
       "      <td>2020-11-16 09:05:49.382999897</td>\n",
       "      <td>2020-11-16 09:05:49.382999897</td>\n",
       "    </tr>\n",
       "    <tr>\n",
       "      <th>7</th>\n",
       "      <td>Location 8</td>\n",
       "      <td>Route1</td>\n",
       "      <td>5</td>\n",
       "      <td>2020-11-16 09:29:06.010999918</td>\n",
       "      <td>2020-11-16 09:29:06.010999918</td>\n",
       "    </tr>\n",
       "    <tr>\n",
       "      <th>11</th>\n",
       "      <td>Warehouse</td>\n",
       "      <td>Route1</td>\n",
       "      <td>6</td>\n",
       "      <td>2020-11-16 09:58:14.000999928</td>\n",
       "      <td>2020-11-16 09:58:14.000999928</td>\n",
       "    </tr>\n",
       "    <tr>\n",
       "      <th>12</th>\n",
       "      <td>Warehouse</td>\n",
       "      <td>Route2</td>\n",
       "      <td>1</td>\n",
       "      <td>2020-11-16 08:00:00.000000000</td>\n",
       "      <td>2020-11-16 08:00:00.000000000</td>\n",
       "    </tr>\n",
       "    <tr>\n",
       "      <th>1</th>\n",
       "      <td>Location 2</td>\n",
       "      <td>Route2</td>\n",
       "      <td>2</td>\n",
       "      <td>2020-11-16 08:07:49.532000064</td>\n",
       "      <td>2020-11-16 08:07:49.532000064</td>\n",
       "    </tr>\n",
       "    <tr>\n",
       "      <th>3</th>\n",
       "      <td>Location 4</td>\n",
       "      <td>Route2</td>\n",
       "      <td>3</td>\n",
       "      <td>2020-11-16 08:28:37.338000059</td>\n",
       "      <td>2020-11-16 08:28:37.338000059</td>\n",
       "    </tr>\n",
       "    <tr>\n",
       "      <th>4</th>\n",
       "      <td>Location 5</td>\n",
       "      <td>Route2</td>\n",
       "      <td>4</td>\n",
       "      <td>2020-11-16 08:44:41.286000013</td>\n",
       "      <td>2020-11-16 08:44:41.286000013</td>\n",
       "    </tr>\n",
       "    <tr>\n",
       "      <th>2</th>\n",
       "      <td>Location 3</td>\n",
       "      <td>Route2</td>\n",
       "      <td>5</td>\n",
       "      <td>2020-11-16 09:00:27.296999931</td>\n",
       "      <td>2020-11-16 09:00:27.296999931</td>\n",
       "    </tr>\n",
       "    <tr>\n",
       "      <th>0</th>\n",
       "      <td>Location 1</td>\n",
       "      <td>Route2</td>\n",
       "      <td>6</td>\n",
       "      <td>2020-11-16 09:16:37.684000015</td>\n",
       "      <td>2020-11-16 09:16:37.684000015</td>\n",
       "    </tr>\n",
       "    <tr>\n",
       "      <th>8</th>\n",
       "      <td>Location 9</td>\n",
       "      <td>Route2</td>\n",
       "      <td>7</td>\n",
       "      <td>2020-11-16 09:33:14.394999981</td>\n",
       "      <td>2020-11-16 09:33:14.394999981</td>\n",
       "    </tr>\n",
       "    <tr>\n",
       "      <th>13</th>\n",
       "      <td>Warehouse</td>\n",
       "      <td>Route2</td>\n",
       "      <td>8</td>\n",
       "      <td>2020-11-16 10:05:20.522000074</td>\n",
       "      <td>2020-11-16 10:05:20.522000074</td>\n",
       "    </tr>\n",
       "  </tbody>\n",
       "</table>\n",
       "</div>"
      ],
      "text/plain": [
       "           Name RouteName  Sequence                    ArriveTime  \\\n",
       "10    Warehouse    Route1         1 2020-11-16 08:00:00.000000000   \n",
       "5    Location 6    Route1         2 2020-11-16 08:28:41.918999910   \n",
       "6    Location 7    Route1         3 2020-11-16 08:39:56.630000114   \n",
       "9   Location 10    Route1         4 2020-11-16 09:05:49.382999897   \n",
       "7    Location 8    Route1         5 2020-11-16 09:29:06.010999918   \n",
       "11    Warehouse    Route1         6 2020-11-16 09:58:14.000999928   \n",
       "12    Warehouse    Route2         1 2020-11-16 08:00:00.000000000   \n",
       "1    Location 2    Route2         2 2020-11-16 08:07:49.532000064   \n",
       "3    Location 4    Route2         3 2020-11-16 08:28:37.338000059   \n",
       "4    Location 5    Route2         4 2020-11-16 08:44:41.286000013   \n",
       "2    Location 3    Route2         5 2020-11-16 09:00:27.296999931   \n",
       "0    Location 1    Route2         6 2020-11-16 09:16:37.684000015   \n",
       "8    Location 9    Route2         7 2020-11-16 09:33:14.394999981   \n",
       "13    Warehouse    Route2         8 2020-11-16 10:05:20.522000074   \n",
       "\n",
       "                      DepartTime  \n",
       "10 2020-11-16 08:00:00.000000000  \n",
       "5  2020-11-16 08:28:41.918999910  \n",
       "6  2020-11-16 08:39:56.630000114  \n",
       "9  2020-11-16 09:05:49.382999897  \n",
       "7  2020-11-16 09:29:06.010999918  \n",
       "11 2020-11-16 09:58:14.000999928  \n",
       "12 2020-11-16 08:00:00.000000000  \n",
       "1  2020-11-16 08:07:49.532000064  \n",
       "3  2020-11-16 08:28:37.338000059  \n",
       "4  2020-11-16 08:44:41.286000013  \n",
       "2  2020-11-16 09:00:27.296999931  \n",
       "0  2020-11-16 09:16:37.684000015  \n",
       "8  2020-11-16 09:33:14.394999981  \n",
       "13 2020-11-16 10:05:20.522000074  "
      ]
     },
     "execution_count": 15,
     "metadata": {},
     "output_type": "execute_result"
    }
   ],
   "source": [
    "out_stops_df = results.out_stops.sdf\n",
    "out_stops_df[['Name','RouteName','Sequence','ArriveTime','DepartTime']].sort_values(by=['RouteName',\n",
    "                                                                                       'Sequence'])"
   ]
  },
  {
   "cell_type": "markdown",
   "metadata": {},
   "source": [
    "Now, let us visualize the results on a map."
   ]
  },
  {
   "cell_type": "code",
   "execution_count": 16,
   "metadata": {},
   "outputs": [
    {
     "data": {
      "application/vnd.jupyter.widget-view+json": {
       "model_id": "3463ec7c60e84c55ac5aef2dc2331150",
       "version_major": 2,
       "version_minor": 0
      },
      "text/plain": [
       "MapView(layout=Layout(height='400px', width='100%'))"
      ]
     },
     "metadata": {},
     "output_type": "display_data"
    },
    {
     "data": {
      "text/html": [
       "<div class=\"map-static-img-preview-c35a6b2e-c686-411a-b8ed-393f583c1411\"><img src=\"\"></img></div>"
      ],
      "text/plain": [
       "<IPython.core.display.HTML object>"
      ]
     },
     "metadata": {},
     "output_type": "display_data"
    }
   ],
   "source": [
    "# Create a map instance to visualize outputs in map\n",
    "map_view_outputs = my_gis.map('San Fransisco, United States', zoomlevel=10)\n",
    "map_view_outputs"
   ]
  },
  {
   "cell_type": "code",
   "execution_count": 17,
   "metadata": {},
   "outputs": [],
   "source": [
    "#Visusalize the inputsn with different symbols\n",
    "map_view_outputs.draw(orders_fset, symbol={\"type\": \"esriSMS\",\n",
    "                                           \"style\": \"esriSMSCircle\",\n",
    "                                           \"color\": [76,115,0,255],\"size\": 8})\n",
    "map_view_outputs.draw(depots_fset, symbol={\"type\": \"esriSMS\",\n",
    "                                           \"style\": \"esriSMSSquare\",\n",
    "                                           \"color\": [255,115,0,255], \"size\": 10})\n",
    "\n",
    "#Visualize the first route\n",
    "out_routes_flist = []\n",
    "out_routes_flist.append(results.out_routes.features[0])\n",
    "out_routes_fset = []\n",
    "out_routes_fset = FeatureSet(out_routes_flist)\n",
    "map_view_outputs.draw(out_routes_fset, \n",
    "                      symbol={\"type\": \"esriSLS\",\n",
    "                              \"style\": \"esriSLSSolid\",\n",
    "                              \"color\": [0,100,240,255],\"size\":10})\n",
    "\n",
    "#Visualize the second route\n",
    "out_routes_flist = []\n",
    "out_routes_flist.append(results.out_routes.features[1])\n",
    "out_routes_fset = []\n",
    "out_routes_fset = FeatureSet(out_routes_flist)\n",
    "map_view_outputs.draw(out_routes_fset, \n",
    "                      symbol={\"type\": \"esriSLS\",\n",
    "                              \"style\": \"esriSLSSolid\",\n",
    "                              \"color\": [255,0,0,255],\"size\":10})"
   ]
  },
  {
   "cell_type": "markdown",
   "metadata": {},
   "source": [
    "Save the route data from result to local disk, which would then be used to upload to online portal to share with drivers eventually and share the routes in ArcGIS online on the portal. Individual routes are saved as route layers which could then be opened in navigator with directions(if you solve with 'populate_directions'=true')"
   ]
  },
  {
   "cell_type": "code",
   "execution_count": 18,
   "metadata": {},
   "outputs": [
    {
     "data": {
      "text/plain": [
       "'.\\\\_ags_rdb4d262e456b04d54b2c211bece9bad88.zip'"
      ]
     },
     "execution_count": 18,
     "metadata": {},
     "output_type": "execute_result"
    }
   ],
   "source": [
    "route_data = results.out_route_data.download('.')\n",
    "route_data"
   ]
  },
  {
   "cell_type": "code",
   "execution_count": 19,
   "metadata": {},
   "outputs": [
    {
     "data": {
      "text/html": [
       "<div class=\"item_container\" style=\"height: auto; overflow: hidden; border: 1px solid #cfcfcf; border-radius: 2px; background: #f6fafa; line-height: 1.21429em; padding: 10px;\">\n",
       "                    <div class=\"item_left\" style=\"width: 210px; float: left;\">\n",
       "                       <a href='https://vishalbhat10.maps.arcgis.com/home/item.html?id=9447e3772e33447a95a946fb24b2dcfd' target='_blank'>\n",
       "                        <img src='http://static.arcgis.com/images/desktopapp.png' class=\"itemThumbnail\">\n",
       "                       </a>\n",
       "                    </div>\n",
       "\n",
       "                    <div class=\"item_right\"     style=\"float: none; width: auto; overflow: hidden;\">\n",
       "                        <a href='https://vishalbhat10.maps.arcgis.com/home/item.html?id=9447e3772e33447a95a946fb24b2dcfd' target='_blank'><b>_ags_rdb4d262e456b04d54b2c211bece9bad88</b>\n",
       "                        </a>\n",
       "                        <br/><img src='https://vishalbhat10.maps.arcgis.com/home/js/jsapi/esri/css/images/item_type_icons/layers16.png' style=\"vertical-align:middle;\">File Geodatabase by Vishalbhat10\n",
       "                        <br/>Last Modified: November 16, 2020\n",
       "                        <br/>0 comments, 0 views\n",
       "                    </div>\n",
       "                </div>\n",
       "                "
      ],
      "text/plain": [
       "<Item title:\"_ags_rdb4d262e456b04d54b2c211bece9bad88\" type:File Geodatabase owner:Vishalbhat10>"
      ]
     },
     "execution_count": 19,
     "metadata": {},
     "output_type": "execute_result"
    }
   ],
   "source": [
    "route_data_item = my_gis.content.add({\"type\": \"File Geodatabase\"}, route_data)\n",
    "route_data_item"
   ]
  },
  {
   "cell_type": "markdown",
   "metadata": {},
   "source": [
    "Create route layers from the route data. This will create route layers in the online portal which could then be shared with drivers, so they would be able to open this in navigator."
   ]
  }
 ],
 "metadata": {
  "esriNotebookRuntime": {
   "notebookRuntimeName": "ArcGIS Notebook Python 3 Standard",
   "notebookRuntimeVersion": "4.0"
  },
  "kernelspec": {
   "display_name": "Python 3",
   "language": "python",
   "name": "python3"
  },
  "language_info": {
   "codemirror_mode": {
    "name": "ipython",
    "version": 3
   },
   "file_extension": ".py",
   "mimetype": "text/x-python",
   "name": "python",
   "nbconvert_exporter": "python",
   "pygments_lexer": "ipython3",
   "version": "3.7.6"
  },
  "toc": {
   "base_numbering": 1,
   "nav_menu": {},
   "number_sections": false,
   "sideBar": true,
   "skip_h1_title": false,
   "title_cell": "**Table of Contents**",
   "title_sidebar": "Contents",
   "toc_cell": true,
   "toc_position": {},
   "toc_section_display": true,
   "toc_window_display": true
  }
 },
 "nbformat": 4,
 "nbformat_minor": 2
}
